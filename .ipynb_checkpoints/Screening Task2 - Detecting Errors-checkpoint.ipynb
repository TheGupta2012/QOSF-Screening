{
 "cells": [
  {
   "cell_type": "markdown",
   "metadata": {},
   "source": [
    "# Detecting Quantum Bit Flip errors\n",
    "- Quantum error correction is used to protect quantum information from errors due to **decoherence and other quantum noise**\n",
    "- This task is to implement the *bit-flip code* and the *sign-flip code* for quantum circuits"
   ]
  },
  {
   "cell_type": "code",
   "execution_count": 1,
   "metadata": {
    "ExecuteTime": {
     "end_time": "2021-02-07T13:40:51.981386Z",
     "start_time": "2021-02-07T13:40:05.695368Z"
    }
   },
   "outputs": [
    {
     "name": "stdout",
     "output_type": "stream",
     "text": [
      "Qiskit: 0.16.1\n",
      "Numpy: 1.19.4\n",
      "Matplotlib: 3.1.1\n"
     ]
    }
   ],
   "source": [
    "from qiskit import *\n",
    "import random as random\n",
    "import numpy as np\n",
    "import matplotlib as mt\n",
    "from qiskit.tools.visualization import plot_bloch_multivector,plot_histogram\n",
    "print(\"Qiskit:\",qiskit.__version__)\n",
    "print(\"Numpy:\",np.__version__)\n",
    "print(\"Matplotlib:\",mt.__version__)\n",
    "%matplotlib inline"
   ]
  },
  {
   "cell_type": "markdown",
   "metadata": {},
   "source": [
    "### Libraries used\n",
    "- **qiskit** - version : 0.16.1\n",
    "    - The main library used for the implementation of the given task was *qiskit* by IBM. \n",
    "    - Inbuilt methods for the plotting of states, measurements and gate operations were used to implement the tasks given.\n",
    "- **numpy** - version : 1.19.4 and **random**\n",
    "    - numpy and random was used for used for random number generation in the sub-task 2 for obtaining the probabilities of error gates.\n",
    "- **matplotlib** - version : 3.1.1\n",
    "    - For plotting of the results obtained in the simulation"
   ]
  },
  {
   "cell_type": "markdown",
   "metadata": {
    "heading_collapsed": true
   },
   "source": [
    "## Subtask 1\n",
    "- Creating the Bell State ( a maximally entangled state )\n",
    " $$ \\frac{1}{\\sqrt{2}}(|00\\rangle + |11\\rangle)$$"
   ]
  },
  {
   "cell_type": "code",
   "execution_count": 2,
   "metadata": {
    "ExecuteTime": {
     "end_time": "2021-02-05T16:19:36.968986Z",
     "start_time": "2021-02-05T16:19:35.796836Z"
    },
    "hidden": true
   },
   "outputs": [
    {
     "name": "stdout",
     "output_type": "stream",
     "text": [
      "The Bell State\n"
     ]
    },
    {
     "data": {
      "image/png": "[encoded data removed]",
      "text/plain": [
       "<Figure size 206.852x204.68 with 1 Axes>"
      ]
     },
     "execution_count": 2,
     "metadata": {},
     "output_type": "execute_result"
    }
   ],
   "source": [
    "# creating a quantum circuit with 2 quantum and \n",
    "# 2 classical bits\n",
    "Q = QuantumCircuit(2,2) \n",
    "Q.h(0) # applying the hadamard gate on Qubit 0\n",
    "Q.cx(0,1) # applying the controlled-not gate with \n",
    "          # control as 0 and target as 1 \n",
    "print(\"The Bell State\")\n",
    "Q.draw(output = 'mpl') # visualizing the circuit"
   ]
  },
  {
   "cell_type": "markdown",
   "metadata": {
    "hidden": true
   },
   "source": [
    "- Measuring and visualizing the probabilities of measurement"
   ]
  },
  {
   "cell_type": "code",
   "execution_count": 3,
   "metadata": {
    "ExecuteTime": {
     "end_time": "2021-02-05T16:19:37.651091Z",
     "start_time": "2021-02-05T16:19:36.982951Z"
    },
    "hidden": true
   },
   "outputs": [
    {
     "data": {
      "image/png": "[encoded data removed]",
      "text/plain": [
       "<Figure size 504x360 with 1 Axes>"
      ]
     },
     "execution_count": 3,
     "metadata": {},
     "output_type": "execute_result"
    }
   ],
   "source": [
    "# Plotting on the histogram\n",
    "Qplot = Q \n",
    "Qplot.measure([0,1],[0,1])\n",
    "counts = execute(Q,backend= Aer.get_backend('qasm_simulator'),shots=2000).result().get_counts()\n",
    "plot_histogram(counts)"
   ]
  },
  {
   "cell_type": "markdown",
   "metadata": {
    "hidden": true
   },
   "source": [
    "- We can see that the maximally entangled Bell state has indeed been prepared  "
   ]
  },
  {
   "cell_type": "markdown",
   "metadata": {},
   "source": [
    "## Subtask 2\n",
    "- Adding arbitrary *error* gates for each qubit, just before the CNOT gate\n",
    "-  **THOUGHT** \n",
    "    - Since the number of choices for each qubit is 3 and we have 2 qubits, we would have a total of 9 possible combinations for our gates.\n",
    "    - We can *map* each gate to a number and then pick that number from a list for each qubit\n",
    "    - The gate mapped to the number is attached to the qubit with the corresponding probability\n",
    "    - The *dirichlet* function is used to generate random probabilities which sum up to one \n",
    "    - These probability values are passed as **weights** to a choice function which generates the random item from list\n",
    "- **MAPPING NUMBERS TO GATES** $$1:I$$\n",
    "$$ 2 : X$$\n",
    "$$ 3 : Z$$"
   ]
  },
  {
   "cell_type": "code",
   "execution_count": 119,
   "metadata": {
    "ExecuteTime": {
     "end_time": "2021-02-07T19:22:28.681749Z",
     "start_time": "2021-02-07T19:22:28.643142Z"
    }
   },
   "outputs": [],
   "source": [
    "def gate_params():\n",
    "    '''RETURNS: a randomly generated 2-tuple consisting of \n",
    "       numbers from [1,2,3] which map to a\n",
    "       unitary quantum gate'''\n",
    "    \n",
    "    # pick for the first qubit \n",
    "    p1 = np.random.dirichlet(np.ones(3), size = 1)\n",
    "    print(\"Probabilities are :\",p1)\n",
    "    n1 = random.choices([1,2,3],weights = p1[0],k=1)[0]\n",
    "    \n",
    "    # now pick for second qubit \n",
    "    p2 = np.random.dirichlet(np.ones(3), size = 1)\n",
    "    print(\"Probabilities are :\",p2)\n",
    "    n2 = random.choices([1,2,3],weights = p2[0],k=1)[0]\n",
    "    \n",
    "    #choice\n",
    "    print(\"Numbers chosen are :\",n1,n2)\n",
    "    return (n1,n2)\n"
   ]
  },
  {
   "cell_type": "code",
   "execution_count": 120,
   "metadata": {
    "ExecuteTime": {
     "end_time": "2021-02-07T19:22:30.058184Z",
     "start_time": "2021-02-07T19:22:30.043261Z"
    }
   },
   "outputs": [],
   "source": [
    "def add_gate(Q,q,n):\n",
    "    '''PARAMETERS : Q-> quantum circuit\n",
    "                    q-> qubit number\n",
    "                    i-> gate number\n",
    "       RETURNS: Quantum circuit with attached gate'''\n",
    "    if(n==1):\n",
    "        Q.i(q)\n",
    "    elif(n==2):\n",
    "        Q.x(q)\n",
    "    elif(n==3):\n",
    "        Q.z(q)\n",
    "    else:\n",
    "        raise Exception(\"Incorrect Gate parameter specified.\")\n",
    "        return \n",
    "    return Q\n",
    "def attach_gates(Q,numbers):\n",
    "    '''\n",
    "    PARAMETERS: Q-> QuantumCircuit, numbers-> 2-tuple containing numbers\n",
    "    RETURNS : QuantumCircuit with attached gates\n",
    "    is returned '''\n",
    "    if len(numbers)!=2:\n",
    "        raise Exception(\"Incorrect size of tuple\")\n",
    "        return\n",
    "    # get gate numbers\n",
    "    g1 = numbers[0]\n",
    "    g2 = numbers[1]\n",
    "    if(type(g1)!= int or type(g2)!=int):\n",
    "        raise TypeError(\"Incorrect values in numbers.\")\n",
    "        return\n",
    "    Q = add_gate(Q,0,g1)\n",
    "    Q = add_gate(Q,1,g2)\n",
    "    \n",
    "    #return circuit\n",
    "    return Q\n",
    "    "
   ]
  },
  {
   "cell_type": "code",
   "execution_count": 121,
   "metadata": {
    "ExecuteTime": {
     "end_time": "2021-02-07T19:22:33.382623Z",
     "start_time": "2021-02-07T19:22:32.279973Z"
    }
   },
   "outputs": [
    {
     "name": "stdout",
     "output_type": "stream",
     "text": [
      "Probabilities are : [[0.48359879 0.00644469 0.50995652]]\n",
      "Probabilities are : [[0.30031123 0.22179194 0.47789683]]\n",
      "Numbers chosen are : 3 2\n"
     ]
    },
    {
     "data": {
      "image/png": "[encoded data removed]",
      "text/plain": [
       "<Figure size 327.252x204.68 with 1 Axes>"
      ]
     },
     "execution_count": 121,
     "metadata": {},
     "output_type": "execute_result"
    }
   ],
   "source": [
    "Q = QuantumCircuit(2,2)\n",
    "numbers = gate_params()\n",
    "Q.h(0)\n",
    "Q.barrier()\n",
    "# attach gates \n",
    "Q = attach_gates(Q,numbers)\n",
    "Q.cnot(0,1)\n",
    "Q.draw(output='mpl')"
   ]
  },
  {
   "cell_type": "markdown",
   "metadata": {},
   "source": [
    "## Subtask 3\n",
    "- The number of total combinations that we would have pertaining to the 2 qubits is 9\n",
    "- These nine combinations are shown below -"
   ]
  },
  {
   "cell_type": "code",
   "execution_count": 28,
   "metadata": {
    "ExecuteTime": {
     "end_time": "2021-02-05T16:39:27.700621Z",
     "start_time": "2021-02-05T16:39:27.429158Z"
    }
   },
   "outputs": [
    {
     "name": "stdout",
     "output_type": "stream",
     "text": [
      "All the possible errors that may occur in the channel :\n"
     ]
    },
    {
     "data": {
      "image/png": "[encoded data removed]",
      "text/plain": [
       "<Figure size 1170.05x144.48 with 1 Axes>"
      ]
     },
     "execution_count": 28,
     "metadata": {},
     "output_type": "execute_result"
    }
   ],
   "source": [
    "gates = QuantumCircuit(2)\n",
    "for i in range(1,4):\n",
    "    for j in range(1,4):\n",
    "        gates = add_gate(gates,0,i)\n",
    "        gates = add_gate(gates,1,j)\n",
    "        gates.barrier()\n",
    "print(\"All the possible errors that may occur in the channel :\")\n",
    "gates.draw(output='mpl')"
   ]
  },
  {
   "cell_type": "markdown",
   "metadata": {},
   "source": [
    "## Observations\n",
    "\n",
    "### Qubit 1 (control)\n",
    "- Qubit 1 needs to be corrected for *both bit and phase* flips as the state i.e. |+> for qubit 1 would be affected pertatining to both kinds of the errors, for **Z** and **X**, encountered in the channel\n",
    "\n",
    "### Qubit 2 (target)\n",
    "- Coming on to the Qubit 2, since the state for the qubit is only |0>, no phase correction code is required pertaining to that qubit, as $$Z|0\\rangle=|0\\rangle$$ operator has no change for the |0> state. \n",
    "- But for X gate, the bit flip error correction code must be applied for the Qubit 2 as the gate would actually affect the state |0> by flipping it to |1>, $$X|0\\rangle = |1\\rangle$$\n",
    "\n",
    "# Assumption\n",
    "- Although the probabilities corresponding to introduction of noise in the original circuit were produced randomly by **dirichlet function**, a limitation to that approach was that the probabilities of errors can be high.\n",
    "- For the implementation of the bit-flip and phase-flip codes for correction of one qubit error, the assumption that probability of error is *low* should hold true.\n",
    "- Pertaining to the point 2, probabilities of X and Z are sampled until there sum is < 0.35 to satisfy the assumption"
   ]
  },
  {
   "cell_type": "code",
   "execution_count": 122,
   "metadata": {
    "ExecuteTime": {
     "end_time": "2021-02-07T19:22:52.451826Z",
     "start_time": "2021-02-07T19:22:52.431863Z"
    }
   },
   "outputs": [],
   "source": [
    "def get_probabilities():\n",
    "    '''RETURNS: error probabilities for the qubit channel\n",
    "    TYPE : dict , key: qubit numbers \n",
    "                  value: list of probabilities'''\n",
    "    p1 = np.random.dirichlet(np.ones(3), size = 1)\n",
    "    while p1[0][1] + p1[0][2] > 0.35:\n",
    "        p1 = np.random.dirichlet(np.ones(3), size = 1)\n",
    "    print(\"Probabilities are :\",p1)\n",
    "    # now pick for second qubit \n",
    "    p2 = np.random.dirichlet(np.ones(3), size = 1)\n",
    "    while p2[0][1] + p2[0][2] > 0.35:\n",
    "        p2 = np.random.dirichlet(np.ones(3), size = 1)\n",
    "    print(\"Probabilities are :\",p2)\n",
    "    # probabilities of errors for channel\n",
    "    return {'q0':p1[0],'q1':p2[0]}"
   ]
  },
  {
   "cell_type": "code",
   "execution_count": 124,
   "metadata": {
    "ExecuteTime": {
     "end_time": "2021-02-07T19:22:57.271436Z",
     "start_time": "2021-02-07T19:22:57.230570Z"
    }
   },
   "outputs": [
    {
     "name": "stdout",
     "output_type": "stream",
     "text": [
      "Probabilities are : [[0.70992762 0.19423145 0.09584093]]\n",
      "Probabilities are : [[0.70238141 0.07230407 0.22531453]]\n",
      "For channel1: {'X': 0.19423144610255716, 'Z': 0.09584092960680753}\n",
      "For channel2: {'X': 0.07230406789894749, 'Z': 0.22531452696190096}\n"
     ]
    }
   ],
   "source": [
    "# Getting error probabilities for the qubit 1 and qubit 2\n",
    "p = get_probabilities()\n",
    "channel1 = {'X':p['q0'][1],'Z':p['q0'][2]}\n",
    "channel2 = {'X':p['q1'][1],'Z':p['q1'][2]}\n",
    "print(\"For channel1:\",channel1)\n",
    "print(\"For channel2:\",channel2)"
   ]
  },
  {
   "cell_type": "markdown",
   "metadata": {},
   "source": [
    "## For qubit 1 "
   ]
  },
  {
   "cell_type": "markdown",
   "metadata": {},
   "source": [
    "## For qubit 2\n",
    "- **OBSERVATION** : The errors that will affect the state of the qubit 2 are only ever going to be the erros when an *X* gate has been introduced erroneously, as said before.\n",
    "- This implies that only the **bit - flip correction** code needs to be used pertaining to the qubit 2.\n",
    "- A quantum circuit with 2 ancilla qubits is thus built for the proper 3-bit encoding of the qubit 2 with the noisy channel being the channel 2\n",
    "- Note that pertaining to our *low probability assumption*, the probability of more than a single qubit being flipped is negligible\n"
   ]
  },
  {
   "cell_type": "code",
   "execution_count": 133,
   "metadata": {
    "ExecuteTime": {
     "end_time": "2021-02-07T19:24:18.673735Z",
     "start_time": "2021-02-07T19:24:18.650477Z"
    }
   },
   "outputs": [],
   "source": [
    "def add_channel2_noise(Q,probs):\n",
    "    '''PARAMETERS: Q-> QuantumCircuit with 3 quantum and 3 classical bits\n",
    "                   probs-> a dictionary conatining prob. of error for \n",
    "                           channel 2 corresponding to X and Z gates\n",
    "       RETURNS: a Quantum Circuit with randomly attached noise'''\n",
    "    px = probs['X'] # we only care for the X gate's probability\n",
    "    px0 = (1-px)**3 # probability that no qubit is flipped\n",
    "    px1 = 3*px*((1-px))**2 # probability that only 1 flip occurs\n",
    "    \n",
    "    # note that the action of channel is \n",
    "    # equal and independent on each of the three \n",
    "    # qubits \n",
    "    \n",
    "    P = [px0,px1] # now pick one of the two possibilities\n",
    "    choice = random.choices([0,1],weights=P)\n",
    "    noise = QuantumCircuit(3,3,name='channel2')\n",
    "    if(choice[0] == 0): \n",
    "        # no qubit flipped\n",
    "        print(\"Channel noise 2 :\")\n",
    "        noise.i([0,1,2])\n",
    "        display(noise.draw(output='mpl'))\n",
    "        Q.append(noise,noise.qubits,noise.clbits)\n",
    "        return Q\n",
    "    else:\n",
    "        # one qubit flipped\n",
    "        # weight all three qubits with equal probabilities for flipping\n",
    "        Qubit = random.choices([0,1,2],weights=[0.333,0.333,0.333])[0]\n",
    "        noise.x(Qubit)\n",
    "        for k in [0,1,2]:\n",
    "            if k == Qubit:\n",
    "                continue\n",
    "            else:\n",
    "                noise.i(k)\n",
    "        print(\"Channel noise 2 :\")\n",
    "        display(noise.draw(output='mpl'))\n",
    "        Q.append(noise,noise.qubits,noise.clbits)\n",
    "        return Q\n",
    "    "
   ]
  },
  {
   "cell_type": "code",
   "execution_count": 136,
   "metadata": {
    "ExecuteTime": {
     "end_time": "2021-02-07T19:24:25.945922Z",
     "start_time": "2021-02-07T19:24:25.041335Z"
    }
   },
   "outputs": [
    {
     "name": "stdout",
     "output_type": "stream",
     "text": [
      "Channel noise 2 :\n"
     ]
    },
    {
     "data": {
      "image/png": "[encoded data removed]",
      "text/plain": [
       "<Figure size 146.797x264.88 with 1 Axes>"
      ]
     },
     "metadata": {},
     "output_type": "display_data"
    },
    {
     "name": "stdout",
     "output_type": "stream",
     "text": [
      "Qubit 2\n"
     ]
    },
    {
     "data": {
      "image/png": "[encoded data removed]",
      "text/plain": [
       "<Figure size 507.997x264.88 with 1 Axes>"
      ]
     },
     "execution_count": 136,
     "metadata": {},
     "output_type": "execute_result"
    }
   ],
   "source": [
    "# making the circuit for second bit\n",
    "Q2 = QuantumCircuit(3,3)\n",
    "Q2.cx(0,1)\n",
    "Q2.cx(0,2)\n",
    "Q2 = add_channel2_noise(Q2,channel2)\n",
    "print(\"Qubit 2\")\n",
    "Q2.cx(0,1)\n",
    "Q2.cx(0,2)\n",
    "Q2.ccx(1,2,0)\n",
    "Q2.draw(output='mpl')"
   ]
  },
  {
   "cell_type": "code",
   "execution_count": null,
   "metadata": {},
   "outputs": [],
   "source": []
  },
  {
   "cell_type": "code",
   "execution_count": null,
   "metadata": {},
   "outputs": [],
   "source": []
  }
 ],
 "metadata": {
  "kernelspec": {
   "display_name": "Python 3",
   "language": "python",
   "name": "python3"
  },
  "language_info": {
   "codemirror_mode": {
    "name": "ipython",
    "version": 3
   },
   "file_extension": ".py",
   "mimetype": "text/x-python",
   "name": "python",
   "nbconvert_exporter": "python",
   "pygments_lexer": "ipython3",
   "version": "3.7.4"
  },
  "varInspector": {
   "cols": {
    "lenName": 16,
    "lenType": 16,
    "lenVar": 40
   },
   "kernels_config": {
    "python": {
     "delete_cmd_postfix": "",
     "delete_cmd_prefix": "del ",
     "library": "var_list.py",
     "varRefreshCmd": "print(var_dic_list())"
    },
    "r": {
     "delete_cmd_postfix": ") ",
     "delete_cmd_prefix": "rm(",
     "library": "var_list.r",
     "varRefreshCmd": "cat(var_dic_list()) "
    }
   },
   "types_to_exclude": [
    "module",
    "function",
    "builtin_function_or_method",
    "instance",
    "_Feature"
   ],
   "window_display": false
  }
 },
 "nbformat": 4,
 "nbformat_minor": 2
}
