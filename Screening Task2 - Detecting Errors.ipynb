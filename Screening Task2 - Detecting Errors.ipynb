{
 "cells": [
  {
   "cell_type": "markdown",
   "metadata": {},
   "source": [
    "## Detecting Quantum Bit Flip errors\n",
    "- Quantum error correction is used to protect quantum information from errors due to **decoherence and other quantum noise**\n",
    "- This task is to implement the *bit-flip code* and the *sign-flip code* for quantum circuits"
   ]
  },
  {
   "cell_type": "code",
   "execution_count": 106,
   "metadata": {
    "ExecuteTime": {
     "end_time": "2021-02-03T18:32:56.525780Z",
     "start_time": "2021-02-03T18:32:56.505673Z"
    }
   },
   "outputs": [
    {
     "name": "stdout",
     "output_type": "stream",
     "text": [
      "Qiskit: 0.16.1\n",
      "Numpy: 1.19.4\n",
      "Matplotlib: 3.1.1\n"
     ]
    }
   ],
   "source": [
    "from qiskit import *\n",
    "import random as random\n",
    "import numpy as np\n",
    "import matplotlib as mt\n",
    "from qiskit.tools.visualization import plot_bloch_multivector,plot_histogram\n",
    "print(\"Qiskit:\",qiskit.__version__)\n",
    "print(\"Numpy:\",np.__version__)\n",
    "print(\"Matplotlib:\",mt.__version__)\n",
    "%matplotlib inline"
   ]
  },
  {
   "cell_type": "markdown",
   "metadata": {
    "heading_collapsed": true
   },
   "source": [
    "### Libraries used\n",
    "- **qiskit** - version : 0.16.1\n",
    "    - The main library used for the implementation of the given task was *qiskit* by IBM. \n",
    "    - Inbuilt methods for the plotting of states, measurements and gate operations were used to implement the tasks given.\n",
    "- **numpy** - version : 1.19.4 and **random**\n",
    "    - numpy and random was used for used for random number generation in the sub-task 2 for obtaining the probabilities of error gates.\n",
    "- **matplotlib** - version : 3.1.1\n",
    "    - For plotting of the results obtained in the simulation"
   ]
  },
  {
   "cell_type": "markdown",
   "metadata": {},
   "source": [
    "## Subtask 1\n",
    "- Creating the Bell State"
   ]
  },
  {
   "cell_type": "code",
   "execution_count": 107,
   "metadata": {
    "ExecuteTime": {
     "end_time": "2021-02-03T18:39:18.298091Z",
     "start_time": "2021-02-03T18:39:18.058333Z"
    }
   },
   "outputs": [
    {
     "name": "stdout",
     "output_type": "stream",
     "text": [
      "The Bell State\n"
     ]
    },
    {
     "data": {
      "image/png": "[encoded data removed]",
      "text/plain": [
       "<Figure size 206.852x204.68 with 1 Axes>"
      ]
     },
     "execution_count": 107,
     "metadata": {},
     "output_type": "execute_result"
    }
   ],
   "source": [
    "# creating a quantum circuit with 2 quantum and \n",
    "# 2 classical bits\n",
    "Q = QuantumCircuit(2,2) \n",
    "Q.h(0) # applying the hadamard on Qubit 0\n",
    "Q.cx(0,1) # applying the controlled-not gate with \n",
    "          # control as 0 and target as 1 \n",
    "print(\"The Bell State\")\n",
    "Q.draw(output = 'mpl') # visualizing the circuit"
   ]
  },
  {
   "cell_type": "markdown",
   "metadata": {},
   "source": [
    "- Measuring and visualizing the probabilities of measurement"
   ]
  },
  {
   "cell_type": "code",
   "execution_count": 108,
   "metadata": {
    "ExecuteTime": {
     "end_time": "2021-02-03T18:39:19.954416Z",
     "start_time": "2021-02-03T18:39:19.808222Z"
    }
   },
   "outputs": [
    {
     "data": {
      "image/png": "[encoded data removed]",
      "text/plain": [
       "<Figure size 504x360 with 1 Axes>"
      ]
     },
     "execution_count": 108,
     "metadata": {},
     "output_type": "execute_result"
    }
   ],
   "source": [
    "# Plotting on the histogram\n",
    "Qplot = Q \n",
    "Qplot.measure([0,1],[0,1])\n",
    "counts = execute(Q,backend= Aer.get_backend('qasm_simulator'),shots=2000).result().get_counts()\n",
    "plot_histogram(counts)"
   ]
  },
  {
   "cell_type": "markdown",
   "metadata": {},
   "source": [
    "- We can see that the maximally entangled Bell state has indeed been prepared  "
   ]
  },
  {
   "cell_type": "markdown",
   "metadata": {},
   "source": [
    "## Subtask 2\n",
    "- Adding arbitrary *error* gates for each qubit, just before the CNOT gate\n",
    "-  **THOUGHT** \n",
    "    - Since the number of choices for each qubit is 3 and we have 2 qubits, we would have a total of 9 possible combinations for our gates.\n",
    "    - We can *map* each gate to a number and then pick that number from a list for each qubit\n",
    "    - The gate mapped to the number is attached to the qubit with the corresponding probability\n",
    "    - The *dirichlet* function is used to generate random probabilities which sum up to one \n",
    "    - These probability values are passed as **weights** to a choice function which generates the random item from list\n",
    "- **MAPPING NUMBERS TO GATES** $$1:I$$\n",
    "$$ 2 : X$$\n",
    "$$ 3 : Z$$"
   ]
  },
  {
   "cell_type": "code",
   "execution_count": 84,
   "metadata": {
    "ExecuteTime": {
     "end_time": "2021-02-03T18:26:43.213693Z",
     "start_time": "2021-02-03T18:26:43.201726Z"
    }
   },
   "outputs": [],
   "source": [
    "def gate_params():\n",
    "    '''RETURNS: a randomly generated 2-tuple consisting of \n",
    "       numbers from [1,2,3] which map to a\n",
    "       unitary quantum gate'''\n",
    "    \n",
    "    # pick for the first qubit \n",
    "    p1 = np.random.dirichlet(np.ones(3), size = 1)\n",
    "    print(\"Probabilities are :\",p1)\n",
    "    n1 = random.choices([1,2,3],weights = p1[0],k=1)[0]\n",
    "    \n",
    "    # now pick for second qubit \n",
    "    p2 = np.random.dirichlet(np.ones(3), size = 1)\n",
    "    print(\"Probabilities are :\",p2)\n",
    "    n2 = random.choices([1,2,3],weights = p2[0],k=1)[0]\n",
    "    \n",
    "    #choice\n",
    "    print(\"Numbers chosen are :\",n1,n2)\n",
    "    return (n1,n2)\n"
   ]
  },
  {
   "cell_type": "code",
   "execution_count": 99,
   "metadata": {
    "ExecuteTime": {
     "end_time": "2021-02-03T18:29:31.302210Z",
     "start_time": "2021-02-03T18:29:31.282263Z"
    }
   },
   "outputs": [],
   "source": [
    "def add_gate(Q,q,n):\n",
    "    '''PARAMETERS : Q-> quantum circuit\n",
    "                    q-> qubit number\n",
    "                    i-> gate number\n",
    "       RETURNS: Quantum circuit with attached gate'''\n",
    "    if(n==1):\n",
    "        Q.i(q)\n",
    "    elif(n==2):\n",
    "        Q.x(q)\n",
    "    elif(n==3):\n",
    "        Q.z(q)\n",
    "    else:\n",
    "        raise Exception(\"Incorrect Gate parameter specified.\")\n",
    "        return \n",
    "    return Q\n",
    "def attach_gates(Q,numbers):\n",
    "    '''\n",
    "    PARAMETERS: Q-> QuantumCircuit, numbers-> 2-tuple containing numbers\n",
    "    RETURNS : QuantumCircuit with attached gates\n",
    "    is returned '''\n",
    "    if len(numbers)!=2:\n",
    "        raise Exception(\"Incorrect size of tuple\")\n",
    "        return\n",
    "    # get gate numbers\n",
    "    g1 = numbers[0]\n",
    "    g2 = numbers[1]\n",
    "    if(type(g1)!= int or type(g2)!=int):\n",
    "        raise TypeError(\"Incorrect values in numbers.\")\n",
    "        return\n",
    "    Q = add_gate(Q,0,g1)\n",
    "    Q = add_gate(Q,1,g2)\n",
    "    \n",
    "    #return circuit\n",
    "    return Q\n",
    "    "
   ]
  },
  {
   "cell_type": "code",
   "execution_count": 103,
   "metadata": {
    "ExecuteTime": {
     "end_time": "2021-02-03T18:29:40.748784Z",
     "start_time": "2021-02-03T18:29:40.418527Z"
    }
   },
   "outputs": [
    {
     "name": "stdout",
     "output_type": "stream",
     "text": [
      "Probabilities are : [[0.40779673 0.19842161 0.39378167]]\n",
      "Probabilities are : [[0.0987722  0.04751766 0.85371014]]\n",
      "Numbers chosen are : 1 3\n"
     ]
    },
    {
     "data": {
      "image/png": "[encoded data removed]",
      "text/plain": [
       "<Figure size 327.252x204.68 with 1 Axes>"
      ]
     },
     "execution_count": 103,
     "metadata": {},
     "output_type": "execute_result"
    }
   ],
   "source": [
    "Q = QuantumCircuit(2,2)\n",
    "numbers = gate_params()\n",
    "Q.h(0)\n",
    "Q.barrier()\n",
    "# attach gates \n",
    "Q = attach_gates(Q,numbers)\n",
    "Q.cnot(0,1)\n",
    "Q.draw(output='mpl')"
   ]
  },
  {
   "cell_type": "markdown",
   "metadata": {
    "heading_collapsed": true
   },
   "source": [
    "## Subtask 3\n",
    "- "
   ]
  },
  {
   "cell_type": "code",
   "execution_count": null,
   "metadata": {
    "hidden": true
   },
   "outputs": [],
   "source": []
  }
 ],
 "metadata": {
  "kernelspec": {
   "display_name": "Python 3",
   "language": "python",
   "name": "python3"
  },
  "language_info": {
   "codemirror_mode": {
    "name": "ipython",
    "version": 3
   },
   "file_extension": ".py",
   "mimetype": "text/x-python",
   "name": "python",
   "nbconvert_exporter": "python",
   "pygments_lexer": "ipython3",
   "version": "3.7.4"
  },
  "varInspector": {
   "cols": {
    "lenName": 16,
    "lenType": 16,
    "lenVar": 40
   },
   "kernels_config": {
    "python": {
     "delete_cmd_postfix": "",
     "delete_cmd_prefix": "del ",
     "library": "var_list.py",
     "varRefreshCmd": "print(var_dic_list())"
    },
    "r": {
     "delete_cmd_postfix": ") ",
     "delete_cmd_prefix": "rm(",
     "library": "var_list.r",
     "varRefreshCmd": "cat(var_dic_list()) "
    }
   },
   "types_to_exclude": [
    "module",
    "function",
    "builtin_function_or_method",
    "instance",
    "_Feature"
   ],
   "window_display": false
  }
 },
 "nbformat": 4,
 "nbformat_minor": 2
}
