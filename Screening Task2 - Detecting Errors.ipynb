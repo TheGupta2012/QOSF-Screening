{
 "cells": [
  {
   "cell_type": "markdown",
   "metadata": {
    "heading_collapsed": true
   },
   "source": [
    "# Detecting Quantum Errors\n",
    "- Quantum error correction is used to protect quantum information from errors due to **decoherence and other quantum noise**\n",
    "- This task is to implement the *bit-flip code* and the *sign-flip code* for quantum circuits"
   ]
  },
  {
   "cell_type": "code",
   "execution_count": 2,
   "metadata": {
    "ExecuteTime": {
     "end_time": "2021-02-10T16:21:35.150328Z",
     "start_time": "2021-02-10T16:20:46.988898Z"
    },
    "hidden": true
   },
   "outputs": [
    {
     "name": "stdout",
     "output_type": "stream",
     "text": [
      "Qiskit: 0.16.1\n",
      "Numpy: 1.19.4\n",
      "Matplotlib: 3.1.1\n"
     ]
    }
   ],
   "source": [
    "from qiskit import *\n",
    "import random as random\n",
    "import numpy as np\n",
    "import matplotlib as mt\n",
    "from qiskit.tools.visualization import plot_bloch_multivector,plot_histogram\n",
    "print(\"Qiskit:\",qiskit.__version__)\n",
    "print(\"Numpy:\",np.__version__)\n",
    "print(\"Matplotlib:\",mt.__version__)\n",
    "%matplotlib inline"
   ]
  },
  {
   "cell_type": "markdown",
   "metadata": {
    "heading_collapsed": true
   },
   "source": [
    "# Libraries used\n",
    "- **qiskit** - version : 0.16.1\n",
    "    - The main library used for the implementation of the given task was *qiskit* by IBM. \n",
    "    - Inbuilt methods for the plotting of states, measurements and gate operations were used to implement the tasks given.\n",
    "- **numpy** - version : 1.19.4 and **random**\n",
    "    - numpy and random was used for used for random number generation in the sub-task 2 for obtaining the probabilities of error gates.\n",
    "- **matplotlib** - version : 3.1.1\n",
    "    - For plotting of the results obtained in the simulation"
   ]
  },
  {
   "cell_type": "markdown",
   "metadata": {
    "heading_collapsed": true
   },
   "source": [
    "# Subtask 1\n",
    "- Creating the Bell State ( a maximally entangled state )\n",
    " $$ \\frac{1}{\\sqrt{2}}(|00\\rangle + |11\\rangle)$$"
   ]
  },
  {
   "cell_type": "code",
   "execution_count": 2,
   "metadata": {
    "ExecuteTime": {
     "end_time": "2021-02-05T16:19:36.968986Z",
     "start_time": "2021-02-05T16:19:35.796836Z"
    },
    "hidden": true
   },
   "outputs": [
    {
     "name": "stdout",
     "output_type": "stream",
     "text": [
      "The Bell State\n"
     ]
    },
    {
     "data": {
      "image/png": "[encoded data removed]",
      "text/plain": [
       "<Figure size 206.852x204.68 with 1 Axes>"
      ]
     },
     "execution_count": 2,
     "metadata": {},
     "output_type": "execute_result"
    }
   ],
   "source": [
    "# creating a quantum circuit with 2 quantum and \n",
    "# 2 classical bits\n",
    "Q = QuantumCircuit(2,2) \n",
    "Q.h(0) # applying the hadamard gate on Qubit 0\n",
    "Q.cx(0,1) # applying the controlled-not gate with \n",
    "          # control as 0 and target as 1 \n",
    "print(\"The Bell State\")\n",
    "Q.draw(output = 'mpl') # visualizing the circuit"
   ]
  },
  {
   "cell_type": "markdown",
   "metadata": {
    "hidden": true
   },
   "source": [
    "- Measuring and visualizing the probabilities of measurement"
   ]
  },
  {
   "cell_type": "code",
   "execution_count": 3,
   "metadata": {
    "ExecuteTime": {
     "end_time": "2021-02-05T16:19:37.651091Z",
     "start_time": "2021-02-05T16:19:36.982951Z"
    },
    "hidden": true
   },
   "outputs": [
    {
     "data": {
      "image/png": "[encoded data removed]",
      "text/plain": [
       "<Figure size 504x360 with 1 Axes>"
      ]
     },
     "execution_count": 3,
     "metadata": {},
     "output_type": "execute_result"
    }
   ],
   "source": [
    "# Plotting on the histogram\n",
    "Qplot = Q \n",
    "Qplot.measure([0,1],[0,1])\n",
    "counts = execute(Q,backend= Aer.get_backend('qasm_simulator'),shots=2000).result().get_counts()\n",
    "plot_histogram(counts)"
   ]
  },
  {
   "cell_type": "markdown",
   "metadata": {
    "hidden": true
   },
   "source": [
    "- We can see that the maximally entangled Bell state has indeed been prepared  "
   ]
  },
  {
   "cell_type": "markdown",
   "metadata": {
    "heading_collapsed": true
   },
   "source": [
    "# Subtask 2\n",
    "- Adding arbitrary *error* gates for each qubit, just before the CNOT gate\n",
    "- Note : each qubit's channel of transfer is treated **different** and separate error probabilities have been defined for them both\n",
    "-  **THOUGHT** \n",
    "    - Since the number of choices for each qubit is 3 and we have 2 qubits, we would have a total of 9 possible combinations for our gates.\n",
    "    - We can *map* each gate to a number and then pick that number from a list for each qubit\n",
    "    - The gate mapped to the number is attached to the qubit with the corresponding probability\n",
    "    - The *dirichlet* function is used to generate random probabilities which sum up to one \n",
    "    - These probability values are passed as **weights** to a choice function which generates the random item from list\n",
    "- **MAPPING NUMBERS TO GATES** $$1:I$$\n",
    "$$ 2 : X$$\n",
    "$$ 3 : Z$$"
   ]
  },
  {
   "cell_type": "code",
   "execution_count": 5,
   "metadata": {
    "ExecuteTime": {
     "end_time": "2021-02-10T16:21:46.992584Z",
     "start_time": "2021-02-10T16:21:46.981298Z"
    },
    "hidden": true
   },
   "outputs": [],
   "source": [
    "def gate_params():\n",
    "    '''RETURNS: a randomly generated 2-tuple consisting of \n",
    "       numbers from [1,2,3] which map to a\n",
    "       unitary quantum gate'''\n",
    "    \n",
    "    # pick for the first qubit \n",
    "    p1 = np.random.dirichlet(np.ones(3), size = 1)\n",
    "    print(\"Probabilities are :\",p1)\n",
    "    n1 = random.choices([1,2,3],weights = p1[0],k=1)[0]\n",
    "    \n",
    "    # now pick for second qubit \n",
    "    p2 = np.random.dirichlet(np.ones(3), size = 1)\n",
    "    print(\"Probabilities are :\",p2)\n",
    "    n2 = random.choices([1,2,3],weights = p2[0],k=1)[0]\n",
    "    \n",
    "    #choice\n",
    "    print(\"Numbers chosen are :\",n1,n2)\n",
    "    return (n1,n2)\n"
   ]
  },
  {
   "cell_type": "code",
   "execution_count": 6,
   "metadata": {
    "ExecuteTime": {
     "end_time": "2021-02-10T16:21:49.505297Z",
     "start_time": "2021-02-10T16:21:49.496779Z"
    },
    "hidden": true
   },
   "outputs": [],
   "source": [
    "def add_gate(Q,q,n):\n",
    "    '''PARAMETERS : Q-> quantum circuit\n",
    "                    q-> qubit number\n",
    "                    i-> gate number\n",
    "       RETURNS: Quantum circuit with attached gate'''\n",
    "    if(n==1):\n",
    "        Q.i(q)\n",
    "    elif(n==2):\n",
    "        Q.x(q)\n",
    "    elif(n==3):\n",
    "        Q.z(q)\n",
    "    else:\n",
    "        raise Exception(\"Incorrect Gate parameter specified.\")\n",
    "        return \n",
    "    return Q\n",
    "def attach_gates(Q,numbers):\n",
    "    '''\n",
    "    PARAMETERS: Q-> QuantumCircuit, numbers-> 2-tuple containing numbers\n",
    "    RETURNS : QuantumCircuit with attached gates\n",
    "    is returned '''\n",
    "    if len(numbers)!=2:\n",
    "        raise Exception(\"Incorrect size of tuple\")\n",
    "        return\n",
    "    # get gate numbers\n",
    "    g1 = numbers[0]\n",
    "    g2 = numbers[1]\n",
    "    if(type(g1)!= int or type(g2)!=int):\n",
    "        raise TypeError(\"Incorrect values in numbers.\")\n",
    "        return\n",
    "    Q = add_gate(Q,0,g1)\n",
    "    Q = add_gate(Q,1,g2)\n",
    "    \n",
    "    #return circuit\n",
    "    return Q\n",
    "    "
   ]
  },
  {
   "cell_type": "code",
   "execution_count": 8,
   "metadata": {
    "ExecuteTime": {
     "end_time": "2021-02-08T18:19:21.256087Z",
     "start_time": "2021-02-08T18:19:20.924397Z"
    },
    "hidden": true
   },
   "outputs": [
    {
     "name": "stdout",
     "output_type": "stream",
     "text": [
      "Probabilities are : [[0.19438372 0.12841359 0.67720269]]\n",
      "Probabilities are : [[0.28423564 0.47213454 0.24362983]]\n",
      "Numbers chosen are : 3 1\n"
     ]
    },
    {
     "data": {
      "image/png": "[encoded data removed]",
      "text/plain": [
       "<Figure size 327.252x204.68 with 1 Axes>"
      ]
     },
     "execution_count": 8,
     "metadata": {},
     "output_type": "execute_result"
    }
   ],
   "source": [
    "Q = QuantumCircuit(2,2)\n",
    "numbers = gate_params()\n",
    "Q.h(0)\n",
    "Q.barrier()\n",
    "# attach gates \n",
    "Q = attach_gates(Q,numbers)\n",
    "Q.cnot(0,1)\n",
    "Q.draw(output='mpl')"
   ]
  },
  {
   "cell_type": "markdown",
   "metadata": {
    "heading_collapsed": true
   },
   "source": [
    "# Subtask 3\n",
    "- The number of total combinations that we would have pertaining to the 2 qubits is 9\n",
    "- These nine combinations are shown below -"
   ]
  },
  {
   "cell_type": "code",
   "execution_count": 11,
   "metadata": {
    "ExecuteTime": {
     "end_time": "2021-02-08T18:19:32.553336Z",
     "start_time": "2021-02-08T18:19:32.005505Z"
    },
    "hidden": true
   },
   "outputs": [
    {
     "name": "stdout",
     "output_type": "stream",
     "text": [
      "All the possible errors that may occur in the channel :\n"
     ]
    },
    {
     "data": {
      "image/png": "[encoded data removed]",
      "text/plain": [
       "<Figure size 1170.05x144.48 with 1 Axes>"
      ]
     },
     "execution_count": 11,
     "metadata": {},
     "output_type": "execute_result"
    }
   ],
   "source": [
    "gates = QuantumCircuit(2)\n",
    "for i in range(1,4):\n",
    "    for j in range(1,4):\n",
    "        gates = add_gate(gates,0,i)\n",
    "        gates = add_gate(gates,1,j)\n",
    "        gates.barrier()\n",
    "print(\"All the possible errors that may occur in the channel :\")\n",
    "gates.draw(output='mpl')"
   ]
  },
  {
   "cell_type": "markdown",
   "metadata": {
    "heading_collapsed": true,
    "hidden": true
   },
   "source": [
    "## Observations\n",
    "\n",
    "### Qubit 1 (control)\n",
    "- Qubit 1 needs to be corrected for *only phase* flips as the state i.e. |+> for qubit 1 would be affected pertatining to **Z** gate error, as it flips the **relative phase of the bit**, encountered in the channel - $$Z|+\\rangle = |-\\rangle > correction\\ needed$$\n",
    "- No correction code is required for the bit corresponding to the gate **X** as |+> is actually an eigen state for our gate **X** - $$X|+\\rangle = |+\\rangle > no\\ correction\\$$\n",
    "\n",
    "### Qubit 2 (target)\n",
    "- Coming on to the Qubit 2, since the state for the qubit is only |0>, no phase correction code is required pertaining to gate **Z** for that qubit, as $$Z|0\\rangle=|0\\rangle > no\\ correction$$ operator has no change for the |0> state. \n",
    "- But for **X** gate, the bit flip error correction code must be applied for the Qubit 2 as the gate would actually affect the state |0> by flipping it to |1>, $$X|0\\rangle = |1\\rangle > correction\\ needed$$\n",
    "\n",
    "# Assumption \n",
    "- Although the probabilities corresponding to introduction of noise in the original circuit were produced randomly by **dirichlet function**, a limitation to that approach was that the probabilities of errors can be high.\n",
    "- For the implementation of the bit-flip and phase-flip codes for correction of one qubit error, the assumption that probability of error is *low* should hold true.\n",
    "- Pertaining to the point 2, probabilities of X and Z are sampled until there sum is < 0.35 to satisfy the assumption\n"
   ]
  },
  {
   "cell_type": "markdown",
   "metadata": {
    "hidden": true
   },
   "source": [
    "### Probability function"
   ]
  },
  {
   "cell_type": "code",
   "execution_count": 49,
   "metadata": {
    "ExecuteTime": {
     "end_time": "2021-02-10T16:44:00.760435Z",
     "start_time": "2021-02-10T16:44:00.743777Z"
    },
    "hidden": true
   },
   "outputs": [],
   "source": [
    "def get_probabilities():\n",
    "    '''RETURNS: error probabilities for the qubit channel\n",
    "    TYPE : dict , key: qubit numbers \n",
    "                  value: list of probabilities'''\n",
    "    p1 = np.random.dirichlet(np.ones(3), size = 1)\n",
    "    while p1[0][1] + p1[0][2] > 0.35:\n",
    "        p1 = np.random.dirichlet(np.ones(3), size = 1)\n",
    "    print(\"Probabilities are :\",p1)\n",
    "    # now pick for second qubit \n",
    "    p2 = np.random.dirichlet(np.ones(3), size = 1)\n",
    "    while p2[0][1] + p2[0][2] > 0.35:\n",
    "        p2 = np.random.dirichlet(np.ones(3), size = 1)\n",
    "    print(\"Probabilities are :\",p2)\n",
    "    # probabilities of errors for channel\n",
    "    return {'q0':p1[0],'q1':p2[0]}"
   ]
  },
  {
   "cell_type": "code",
   "execution_count": 294,
   "metadata": {
    "ExecuteTime": {
     "end_time": "2021-02-10T18:07:06.926550Z",
     "start_time": "2021-02-10T18:07:06.898202Z"
    },
    "hidden": true
   },
   "outputs": [
    {
     "name": "stdout",
     "output_type": "stream",
     "text": [
      "Probabilities are : [[0.74437102 0.12532772 0.13030126]]\n",
      "Probabilities are : [[0.908854   0.07238644 0.01875956]]\n",
      "For channel1: {'X': 0.12532771726332362, 'Z': 0.13030126216734927}\n",
      "For channel2: {'X': 0.07238643852988676, 'Z': 0.018759558307878954}\n"
     ]
    }
   ],
   "source": [
    "# Getting error probabilities for the qubit 1 and qubit 2\n",
    "p = get_probabilities()\n",
    "channel1 = {'X':p['q0'][1],'Z':p['q0'][2]}\n",
    "channel2 = {'X':p['q1'][1],'Z':p['q1'][2]}\n",
    "print(\"For channel1:\",channel1)\n",
    "print(\"For channel2:\",channel2)"
   ]
  },
  {
   "cell_type": "markdown",
   "metadata": {
    "heading_collapsed": true,
    "hidden": true
   },
   "source": [
    "### Noise function\n",
    "- A thing to note is that attaching *I* operator is **equivalent** to attaching **X for Q1** and **Z for Q2** as *|+> doesn't get affected by X* and *|0> doesn't get affected by Z*\n",
    "\n",
    "\n",
    "- This assumption is made on the premise that noise was introduced **before** CNOT gate application\n",
    "\n",
    "\n",
    "- So, the cases when Q1 is affected by *Z* noise and Q2 is affected by *X* noise are handled in the \n",
    "**add_channel_noise function**"
   ]
  },
  {
   "cell_type": "code",
   "execution_count": 107,
   "metadata": {
    "ExecuteTime": {
     "end_time": "2021-02-10T17:13:58.334913Z",
     "start_time": "2021-02-10T17:13:58.302162Z"
    },
    "hidden": true
   },
   "outputs": [],
   "source": [
    "def add_channel_noise(Q,probs,channel):\n",
    "    '''PARAMETERS: Q-> QuantumCircuit with 3 quantum and 3 classical bits\n",
    "                   probs-> a dictionary conatining prob. of error for \n",
    "                           channel 2 corresponding to X and Z gates\n",
    "                   channel-> an interger specifying which channel to add noise\n",
    "       RETURNS: a Quantum Circuit with randomly attached noise'''\n",
    "    if(channel == 1):\n",
    "        p = probs['Z']\n",
    "    else:\n",
    "        p = probs['X'] # we only care for the X gate's probability\n",
    "    \n",
    "    p0 = (1-p)**3 # probability that no qubit is flipped\n",
    "    p1 = 3*p*((1-p))**2 # probability that only 1 flip occurs\n",
    "    \n",
    "    # note that the action of channel is \n",
    "    # equal and independent on each of the three \n",
    "    # qubits \n",
    "    \n",
    "    P = [p0,p1] # now pick one of the two possibilities\n",
    "    choice = random.choices([0,1],weights=P)\n",
    "    if(channel==1):\n",
    "        noise = QuantumCircuit(3,3,name='channel1')\n",
    "    else:\n",
    "        noise = QuantumCircuit(3,3,name='channel2')\n",
    "\n",
    "    if(choice[0] == 0): \n",
    "        # no qubit flipped\n",
    "        print(\"Channel noise\",channel)\n",
    "        noise.i([0,1,2]) # only I gates \n",
    "        display(noise.draw(output='mpl'))\n",
    "        Q.append(noise,noise.qubits,noise.clbits)\n",
    "        return Q\n",
    "    else:\n",
    "        # one qubit flipped\n",
    "        # weight all three qubits with equal probabilities for flipping\n",
    "        Qubit = random.choices([0,1,2],weights=[0.333,0.333,0.333])[0]\n",
    "        if(channel==1):\n",
    "            noise.z(Qubit)\n",
    "        else:\n",
    "            noise.x(Qubit) # flip the qubit\n",
    "        for k in [0,1,2]:\n",
    "            if k == Qubit:\n",
    "                continue\n",
    "            else:\n",
    "                noise.i(k)\n",
    "        print(\"Channel noise\",channel,\":\")\n",
    "        display(noise.draw(output='mpl'))\n",
    "        Q.append(noise,noise.qubits,noise.clbits)\n",
    "        return Q\n",
    "    "
   ]
  },
  {
   "cell_type": "markdown",
   "metadata": {
    "heading_collapsed": true,
    "hidden": true
   },
   "source": [
    "## Encoding Qubits"
   ]
  },
  {
   "cell_type": "markdown",
   "metadata": {
    "heading_collapsed": true,
    "hidden": true
   },
   "source": [
    "### For qubit 1 \n",
    "- **OBSERVATION** : The errors that will affect the state of the qubit 2 are only ever going to be the errors when a *Z* gate has been introduced erroneously, as said before.\n",
    "- This implies that only the **phase - flip correction** code needs to be used pertaining to the qubit 1.\n",
    "- A quantum circuit with 2 ancilla qubits is thus built for the proper 3-bit encoding of the qubit 1 with the noisy channel being the channel 1\n",
    "- Note that pertaining to our *low probability assumption*, the probability of more than a single qubit phase being flipped is negligible\n"
   ]
  },
  {
   "cell_type": "code",
   "execution_count": 289,
   "metadata": {
    "ExecuteTime": {
     "end_time": "2021-02-10T18:00:47.525944Z",
     "start_time": "2021-02-10T18:00:46.909070Z"
    },
    "hidden": true
   },
   "outputs": [
    {
     "name": "stdout",
     "output_type": "stream",
     "text": [
      "Channel noise 1\n"
     ]
    },
    {
     "data": {
      "image/png": "[encoded data removed]",
      "text/plain": [
       "<Figure size 146.797x264.88 with 1 Axes>"
      ]
     },
     "metadata": {},
     "output_type": "display_data"
    },
    {
     "data": {
      "image/png": "[encoded data removed]",
      "text/plain": [
       "<Figure size 447.797x264.88 with 1 Axes>"
      ]
     },
     "execution_count": 289,
     "metadata": {},
     "output_type": "execute_result"
    }
   ],
   "source": [
    "Q1 = QuantumCircuit(3,3)\n",
    "Q1.h(0)\n",
    "Q1.cx(0,1)\n",
    "Q1.cx(0,2)\n",
    "Q1.h([0,1,2])\n",
    "Q1 = add_channel_noise(Q1,channel1,1)\n",
    "Q1.draw(output='mpl')"
   ]
  },
  {
   "cell_type": "markdown",
   "metadata": {
    "heading_collapsed": true,
    "hidden": true
   },
   "source": [
    "### For qubit 2\n",
    "- **OBSERVATION** : The errors that will affect the state of the qubit 2 are only ever going to be the errors when an *X* gate has been introduced erroneously, as said before.\n",
    "- This implies that only the **bit - flip correction** code needs to be used pertaining to the qubit 2.\n",
    "- A quantum circuit with 2 ancilla qubits is thus built for the proper 3-bit encoding of the qubit 2 with the noisy channel being the channel 2\n",
    "- Note that pertaining to our *low probability assumption*, the probability of more than a single qubit being flipped is negligible\n"
   ]
  },
  {
   "cell_type": "code",
   "execution_count": 290,
   "metadata": {
    "ExecuteTime": {
     "end_time": "2021-02-10T18:00:49.606870Z",
     "start_time": "2021-02-10T18:00:49.010028Z"
    },
    "hidden": true
   },
   "outputs": [
    {
     "name": "stdout",
     "output_type": "stream",
     "text": [
      "Channel noise 2\n"
     ]
    },
    {
     "data": {
      "image/png": "[encoded data removed]",
      "text/plain": [
       "<Figure size 146.797x264.88 with 1 Axes>"
      ]
     },
     "metadata": {},
     "output_type": "display_data"
    },
    {
     "name": "stdout",
     "output_type": "stream",
     "text": [
      "Qubit 2\n"
     ]
    },
    {
     "data": {
      "image/png": "[encoded data removed]",
      "text/plain": [
       "<Figure size 327.397x264.88 with 1 Axes>"
      ]
     },
     "execution_count": 290,
     "metadata": {},
     "output_type": "execute_result"
    }
   ],
   "source": [
    "# making the circuit for second bit\n",
    "Q2 = QuantumCircuit(3,3)\n",
    "Q2.cx(0,1)\n",
    "Q2.cx(0,2)\n",
    "Q2 = add_channel_noise(Q2,channel2,2)\n",
    "print(\"Qubit 2\")\n",
    "Q2.draw(output='mpl')"
   ]
  },
  {
   "cell_type": "markdown",
   "metadata": {
    "heading_collapsed": true,
    "hidden": true
   },
   "source": [
    "### Encoded Bell State"
   ]
  },
  {
   "cell_type": "code",
   "execution_count": 291,
   "metadata": {
    "ExecuteTime": {
     "end_time": "2021-02-10T18:00:52.806630Z",
     "start_time": "2021-02-10T18:00:52.209930Z"
    },
    "hidden": true
   },
   "outputs": [
    {
     "data": {
      "image/png": "[encoded data removed]",
      "text/plain": [
       "<Figure size 628.397x445.48 with 1 Axes>"
      ]
     },
     "execution_count": 291,
     "metadata": {},
     "output_type": "execute_result"
    }
   ],
   "source": [
    "Q = QuantumCircuit(6,6)\n",
    "Q = Q.compose(Q1,[0,1,2],[0,1,2])\n",
    "Q = Q.compose(Q2,[3,4,5],[3,4,5])\n",
    "Q.barrier()\n",
    "Q.cx(0,3)\n",
    "Q.draw(output='mpl')\n"
   ]
  },
  {
   "cell_type": "markdown",
   "metadata": {
    "heading_collapsed": true,
    "hidden": true
   },
   "source": [
    "## Correction Circuits "
   ]
  },
  {
   "cell_type": "markdown",
   "metadata": {
    "heading_collapsed": true,
    "hidden": true
   },
   "source": [
    "### Qubit 1"
   ]
  },
  {
   "cell_type": "code",
   "execution_count": 201,
   "metadata": {
    "ExecuteTime": {
     "end_time": "2021-02-10T17:43:58.285467Z",
     "start_time": "2021-02-10T17:43:57.830547Z"
    },
    "hidden": true
   },
   "outputs": [
    {
     "data": {
      "image/png": "[encoded data removed]",
      "text/plain": [
       "<Figure size 929.397x264.88 with 1 Axes>"
      ]
     },
     "execution_count": 201,
     "metadata": {},
     "output_type": "execute_result"
    }
   ],
   "source": [
    "# Attaching measurements and Cx gates to identify which was qubit was flipped incorrectly\n",
    "Q1.h([0,1,2])\n",
    "Q1.cx(0,1)\n",
    "Q1.cx(0,2)\n",
    "Q1.ccx(1,2,0)\n",
    "Q1.measure([1,0],[1,0])\n",
    "Q1.measure([1,2],[1,2])\n",
    "Q1.draw(output='mpl')"
   ]
  },
  {
   "cell_type": "markdown",
   "metadata": {
    "heading_collapsed": true,
    "hidden": true
   },
   "source": [
    "### Qubit 2"
   ]
  },
  {
   "cell_type": "code",
   "execution_count": 202,
   "metadata": {
    "ExecuteTime": {
     "end_time": "2021-02-10T17:44:01.531014Z",
     "start_time": "2021-02-10T17:44:01.126460Z"
    },
    "hidden": true
   },
   "outputs": [
    {
     "data": {
      "image/png": "[encoded data removed]",
      "text/plain": [
       "<Figure size 748.797x264.88 with 1 Axes>"
      ]
     },
     "execution_count": 202,
     "metadata": {},
     "output_type": "execute_result"
    }
   ],
   "source": [
    "# Attaching measurements and Cx gates to get which qubit was flipped incorrectly\n",
    "Q2.cx(0,1)\n",
    "Q2.cx(0,2)\n",
    "Q2.ccx(1,2,0)\n",
    "Q2.measure([1,0],[1,0])\n",
    "Q2.measure([1,2],[1,2])\n",
    "Q2.draw(output='mpl')"
   ]
  },
  {
   "cell_type": "markdown",
   "metadata": {
    "heading_collapsed": true,
    "hidden": true
   },
   "source": [
    "### For Bell State\n"
   ]
  },
  {
   "cell_type": "code",
   "execution_count": 292,
   "metadata": {
    "ExecuteTime": {
     "end_time": "2021-02-10T18:00:57.682786Z",
     "start_time": "2021-02-10T18:00:56.509265Z"
    },
    "hidden": true
   },
   "outputs": [
    {
     "data": {
      "image/png": "[encoded data removed]",
      "text/plain": [
       "<Figure size 1591.6x927.08 with 1 Axes>"
      ]
     },
     "execution_count": 292,
     "metadata": {},
     "output_type": "execute_result"
    }
   ],
   "source": [
    "Q.barrier()\n",
    "# for qubit 1 \n",
    "Q.h([0,1,2])\n",
    "Q.cx(0,1)\n",
    "Q.cx(0,2)\n",
    "Q.ccx(1,2,0)\n",
    "# Q.measure(0,0)\n",
    "Q.measure([1,0],[1,0])\n",
    "Q.measure([1,2],[1,2])\n",
    "Q.barrier()\n",
    "# for qubit 2 \n",
    "Q.cx(3,4)\n",
    "Q.cx(3,5)\n",
    "Q.ccx(4,5,3)\n",
    "# Q.measure(3,3)\n",
    "Q.measure([4,3],[4,3])\n",
    "Q.measure([4,5],[4,5])\n",
    "Q.barrier()\n",
    "Q.draw(output='mpl')"
   ]
  },
  {
   "cell_type": "markdown",
   "metadata": {
    "heading_collapsed": true,
    "hidden": true
   },
   "source": [
    "## Correcting procedure\n",
    "- Since the qiskit notation is **big endian**, the most significant bit pertains to Q2 and least significant bit pertains to Q0.\n",
    "- Separate procedures are employed for the qubit 0 and qubit 3(the second qubit)\n",
    "- Note that **step by step syndrome measurements are required** for identification of the errors \n"
   ]
  },
  {
   "cell_type": "markdown",
   "metadata": {
    "hidden": true
   },
   "source": [
    "### Qubit 1\n",
    "- A correction procedure corresponding to projective measurements - \n",
    "    // to do..."
   ]
  },
  {
   "cell_type": "markdown",
   "metadata": {
    "hidden": true
   },
   "source": [
    "### Qubit 2\n",
    "- A correction procedure to the corresponding projective measurements(Q3,Q4,Q5) -\n",
    "$$ |000\\rangle : no\\ correction\\ required\\$$\n",
    "\n",
    "$$ |100\\rangle\\ and\\ |011\\rangle: X\\ gate\\ on\\ qubit2$$\n",
    "\n",
    "$$ |010\\rangle\\ and\\ |101\\rangle: X\\ gate\\ on\\ qubit1$$\n",
    "\n",
    "$$ |110\\rangle : X\\ gate\\ on\\ qubit\\ 0\\$$\n",
    "- The last error happened due to the flip of the actual logical qubit. The **toffoli gate** at the end although corrected it, but the **CNOTs** changed the states of Q4 and Q5 which need to be flipped.\n",
    "- Note that these measurements actually preserve our superposition(if present) as we are only querying for which bits are different from each other, not the whole state\n",
    "- Now a correction is applied over our circuit to get back the results"
   ]
  },
  {
   "cell_type": "code",
   "execution_count": 38,
   "metadata": {
    "ExecuteTime": {
     "end_time": "2021-02-10T16:36:21.693188Z",
     "start_time": "2021-02-10T16:36:21.680702Z"
    },
    "hidden": true
   },
   "outputs": [
    {
     "name": "stdout",
     "output_type": "stream",
     "text": [
      "Qubit : [1]  needs to be flipped\n"
     ]
    }
   ],
   "source": [
    "## NEED TO CHANGE\n",
    "\n",
    "\n",
    "# qubit = list(counts.keys())[0]\n",
    "# if '1' not in str(qubit):\n",
    "#     # no flip occured\n",
    "#     qubit = None\n",
    "# else:\n",
    "#     qubit_ind = []\n",
    "#     for i,k in enumerate(qubit):\n",
    "#         if k == '1':\n",
    "#             qubit_ind.append(2-i) # big endian and hence needs to be n - i\n",
    "# print(\"Qubit :\",qubit_ind,\" needs to be flipped\")"
   ]
  },
  {
   "cell_type": "code",
   "execution_count": 39,
   "metadata": {
    "ExecuteTime": {
     "end_time": "2021-02-10T16:36:30.744510Z",
     "start_time": "2021-02-10T16:36:30.029653Z"
    },
    "hidden": true
   },
   "outputs": [
    {
     "data": {
      "image/png": "[encoded data removed]",
      "text/plain": [
       "<Figure size 989.597x264.88 with 1 Axes>"
      ]
     },
     "execution_count": 39,
     "metadata": {},
     "output_type": "execute_result"
    }
   ],
   "source": [
    "Q2.barrier()\n",
    "if(qubit is not None):\n",
    "    for k in qubit_ind:\n",
    "        Q2.x(k)\n",
    "Q2.measure([0,1,2],[0,1,2])\n",
    "Q2.draw(output='mpl')"
   ]
  },
  {
   "cell_type": "markdown",
   "metadata": {
    "heading_collapsed": true,
    "hidden": true
   },
   "source": [
    "## Putting it all together \n",
    "- We would require 2 ancilla qubits for the qubit 1 and 2 for qubit 2.\n",
    "- The given circuit it just a compilation of the above process just before applying the CNOT gate and getting our Bell State after it has gone through the noisy channel.\n",
    "- After we apply the correcting procedures and measure the state back, we would be getting the Bell State back indeed.\n",
    "// to do"
   ]
  },
  {
   "cell_type": "code",
   "execution_count": null,
   "metadata": {
    "hidden": true
   },
   "outputs": [],
   "source": []
  },
  {
   "cell_type": "code",
   "execution_count": null,
   "metadata": {
    "hidden": true
   },
   "outputs": [],
   "source": []
  }
 ],
 "metadata": {
  "kernelspec": {
   "display_name": "Python 3",
   "language": "python",
   "name": "python3"
  },
  "language_info": {
   "codemirror_mode": {
    "name": "ipython",
    "version": 3
   },
   "file_extension": ".py",
   "mimetype": "text/x-python",
   "name": "python",
   "nbconvert_exporter": "python",
   "pygments_lexer": "ipython3",
   "version": "3.7.4"
  },
  "varInspector": {
   "cols": {
    "lenName": 16,
    "lenType": 16,
    "lenVar": 40
   },
   "kernels_config": {
    "python": {
     "delete_cmd_postfix": "",
     "delete_cmd_prefix": "del ",
     "library": "var_list.py",
     "varRefreshCmd": "print(var_dic_list())"
    },
    "r": {
     "delete_cmd_postfix": ") ",
     "delete_cmd_prefix": "rm(",
     "library": "var_list.r",
     "varRefreshCmd": "cat(var_dic_list()) "
    }
   },
   "types_to_exclude": [
    "module",
    "function",
    "builtin_function_or_method",
    "instance",
    "_Feature"
   ],
   "window_display": false
  }
 },
 "nbformat": 4,
 "nbformat_minor": 2
}
